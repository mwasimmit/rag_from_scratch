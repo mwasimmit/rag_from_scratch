{
 "cells": [
  {
   "cell_type": "code",
   "execution_count": 12,
   "id": "1ba36d80",
   "metadata": {},
   "outputs": [],
   "source": [
    "import os\n",
    "import re\n",
    "import ollama"
   ]
  },
  {
   "cell_type": "code",
   "execution_count": 13,
   "id": "a6366577",
   "metadata": {},
   "outputs": [],
   "source": [
    "def readtextfiles(path):\n",
    "  text_contents = {}\n",
    "  directory = os.path.join(path)\n",
    "\n",
    "  for filename in os.listdir(directory):\n",
    "    if filename.endswith(\".txt\"):\n",
    "      file_path = os.path.join(directory, filename)\n",
    "\n",
    "      with open(file_path, \"r\", encoding=\"utf-8\") as file:\n",
    "        content = file.read()\n",
    "\n",
    "      text_contents[filename] = content\n",
    "\n",
    "  return text_contents\n"
   ]
  },
  {
   "cell_type": "code",
   "execution_count": 14,
   "id": "5a481003",
   "metadata": {},
   "outputs": [],
   "source": [
    "def chunksplitter(text, chunk_size=100):\n",
    "  words = re.findall(r'\\S+', text)\n",
    "\n",
    "  chunks = []\n",
    "  current_chunk = []\n",
    "  word_count = 0\n",
    "\n",
    "  for word in words:\n",
    "    current_chunk.append(word)\n",
    "    word_count += 1\n",
    "\n",
    "    if word_count >= chunk_size:\n",
    "      chunks.append(' '.join(current_chunk))\n",
    "      current_chunk = []\n",
    "      word_count = 0\n",
    "\n",
    "  if current_chunk:\n",
    "    chunks.append(' '.join(current_chunk))\n",
    "\n",
    "  return chunks"
   ]
  },
  {
   "cell_type": "code",
   "execution_count": 15,
   "id": "db0ab55a",
   "metadata": {},
   "outputs": [],
   "source": [
    "def getembedding(chunks):\n",
    "  embeds = ollama.embed(model=\"nomic-embed-text\", input=chunks)\n",
    "  return embeds.get('embeddings', [])"
   ]
  },
  {
   "cell_type": "code",
   "execution_count": 16,
   "id": "0d544daa",
   "metadata": {},
   "outputs": [],
   "source": [
    "import chromadb\n",
    "\n",
    "chromaclient = chromadb.HttpClient(host=\"localhost\", port=8000)\n",
    "textdocspath = \"./text\"\n",
    "text_data = readtextfiles(textdocspath)"
   ]
  },
  {
   "cell_type": "code",
   "execution_count": 20,
   "id": "3890b8b9",
   "metadata": {},
   "outputs": [],
   "source": [
    "if \"buildragwithpython\" in [collection.name for collection in chromaclient.list_collections()]:\n",
    "    chromaclient.delete_collection(\"buildragwithpython\")\n",
    "collection = chromaclient.create_collection(name=\"buildragwithpython\", metadata={\"hnsw:space\": \"cosine\"})\n",
    "\n",
    "\n",
    "for filename, text in text_data.items():\n",
    "  chunks = chunksplitter(text)\n",
    "  embeds = getembedding(chunks)\n",
    "  chunknumber = list(range(len(chunks)))\n",
    "  ids = [filename + str(index) for index in chunknumber]\n",
    "  metadatas = [{\"source\": filename} for index in chunknumber]\n",
    "  collection.add(ids=ids, documents=chunks, embeddings=embeds, metadatas=metadatas)"
   ]
  },
  {
   "cell_type": "code",
   "execution_count": 27,
   "id": "39d163ab",
   "metadata": {},
   "outputs": [
    {
     "name": "stdout",
     "output_type": "stream",
     "text": [
      "Answered without RAG: 1. House of Wisdom (Bayt al-Hikmah): The Abbasid Caliphate established the House of Wisdom, a center for translation and research, where ancient Greek, Persian, Indian, and Syriac works were translated into Arabic. This facilitated the dissemination of knowledge across cultures and contributed to the Golden Age of Islam.\n",
      "\n",
      "2. Translation Movement: The Abbasids sponsored translations from multiple languages into Arabic, including works by Aristotle, Plato, Galen, Euclid, Ptolemy, and others in various fields such as mathematics, astronomy, medicine, philosophy, and literature. This had a significant impact on the scientific development not only within the Islamic world but also in Europe during the Middle Ages.\n",
      "\n",
      "3. Mathematics: Al-Khwarizmi, an Abbasid scholar, developed the decimal number system and algebraic techniques that were essential for the development of modern mathematics. His work laid the foundations for the fields of algebra, trigonometry, and calculus.\n",
      "\n",
      "4. Astronomy: The astronomical observatory in Baghdad during the Abbasid period made important contributions to astronomy, such as refining the geocentric model by astronomers like Al-Battani (Albumasar) and improving astronomical instruments like the astrolabe.\n",
      "\n",
      "5. Medicine: Abbasid scholars translated ancient Greek medical texts and made significant advancements in their own right. Rhazes (Muhammad ibn Zakariya al-Razi), for example, is renowned for his works on smallpox and measles, while Avicenna (Ibn Sina) authored the influential medical encyclopedia \"Canon of Medicine.\"\n",
      "\n",
      "6. Chemistry: Alchemists during the Abbasid period contributed to the early development of chemistry by studying substances and processes like distillation and fermentation for the production of medicines, perfumes, and dyes. Jabir ibn Hayyan is one such notable figure who made significant contributions in this field.\n",
      "---\n",
      "Answered with RAG: The Abbasid Caliphate made significant contributions to various fields of science. One major aspect was their emphasis on knowledge with an injunction stressing that \"the ink of a scholar is more holy than the blood of a martyr.\" This mindset drove them to establish the House of Wisdom (Bayt al-Hikma) in Baghdad, where both Muslim and non-Muslim scholars were encouraged to translate all world knowledge into Arabic. As Huff states: \"[i]n virtually every field of endeavor—in astronomy, alchemy, mathematics, medicine, optics and so forth,\" Abbasid scientists led the way in scientific advances.[65][101]\n",
      "\n",
      "Astronomers under the Abbasids expanded upon Ptolemaic-Egyptian models by developing new instruments such as astrolabes for astronomical observation. They also refined and revised Islamic celestial charts, making notable progress in observational tools.[26][41] In medicine, they made strides with the production of medical texts like 'Al-Taʿrifāt,' a vital compilation that included treatises by physicians such as Mashnaq al-Harirawi and Yūḥannī ibn ad-Daqa'í. They also expanded on Greek knowledge from ancient times, including works translated into Arabic.[102][64]\n",
      "\n",
      "In the field of chemistry (Alchemy), they produced significant texts like 'Sulṭan al-Dahr,' which compiled a vast array of information about chemicals and substances. They also created practical handbooks for physicians, furthering their knowledge in this domain.[103][98]\n",
      "\n",
      "Abbasids contributed to astronomy as well with the establishment of observatories like Baghdad's Maragha Observatory by al-Tusi and Alhazen’s famous \"Book Of Optics.\" They also studied planetary phenomena such as solar eclipses, lunar phases, retrograde motions and other celestial events.[26][41]\n",
      "\n",
      "The Abbasid Caliphate's contributions extended to mathematics too. Al-Khwarizmi’s 'Hisab aljabr wa'lmuqalb,' translated into Latin as \"Algoritimi, seu ars magna sive ratio Ludis,\" was a notable work on algebra and arithmetic.[104] The Caliphate also fostered the development of Arabic numerals (including decimals) which facilitated computation in mathematics.\n",
      "\n",
      "Their advancements didn't stop with science, as they made noteworthy contributions to geography too during their Golden Age under caliphs like al-Ma'mun and Harun ar-Raschid.[105] Astronomers developed star catalogues that included distances between stars.\n",
      "\n",
      "The translation movement within the House of Wisdom led by scholars such as Hunayn ibn Ishaq, was pivotal in transferring ancient Greek knowledge into Arabic and Persian languages which were later translated to Turkish, Hebrew and Latin.[64][102] This exchange further enriched global intellectual traditions.\n",
      "\n",
      "The Abbasids also pioneered a multiethnic approach towards governance by engaging with non-Arab Muslims (mawali) in the administration of their vast territories as farmers, scholars and officials.[106] Despite this inclusivity declining later on due to political upheavals like Buyid and Seljuq conquests.\n",
      "\n",
      "However, it's also crucial to note that with time, Abbasids faced alienation from non-Arab Muslims in their community especially when they started attacking the moral character of previous caliphates during political power struggles.[107] The Mongol invasion under Hulagu Khan eventually brought an end to Baghdad's cultural golden age, but not before cementing Abbasids as a crucial link in global intellectual heritage.\n"
     ]
    }
   ],
   "source": [
    "import sys, chromadb, ollama\n",
    "\n",
    "chromaclient = chromadb.HttpClient(host=\"localhost\", port=8000)\n",
    "collection = chromaclient.get_or_create_collection(name=\"buildragwithpython\")\n",
    "\n",
    "query = \"What were popular contributions of abbasid dynasty in science?\".join(sys.argv[1:])\n",
    "queryembed = ollama.embed(model=\"nomic-embed-text\", input=query)['embeddings']\n",
    "\n",
    "relateddocs = '\\n\\n'.join(collection.query(query_embeddings=queryembed, n_results=10)['documents'][0])\n",
    "prompt = f\"{query} - Answer that question using the following text as a resource: {relateddocs}\"\n",
    "noragoutput = ollama.generate(model=\"mistral\", prompt=query, stream=False)\n",
    "print(f\"Answered without RAG: {noragoutput['response']}\")\n",
    "print(\"---\")\n",
    "ragoutput = ollama.generate(model=\"phi3\", prompt=prompt, stream=False)\n",
    "\n",
    "print(f\"Answered with RAG: {ragoutput['response']}\")"
   ]
  },
  {
   "cell_type": "code",
   "execution_count": null,
   "id": "dc3f8fc1",
   "metadata": {},
   "outputs": [],
   "source": []
  }
 ],
 "metadata": {
  "kernelspec": {
   "display_name": "first_rag",
   "language": "python",
   "name": "python3"
  },
  "language_info": {
   "codemirror_mode": {
    "name": "ipython",
    "version": 3
   },
   "file_extension": ".py",
   "mimetype": "text/x-python",
   "name": "python",
   "nbconvert_exporter": "python",
   "pygments_lexer": "ipython3",
   "version": "3.12.0"
  }
 },
 "nbformat": 4,
 "nbformat_minor": 5
}
